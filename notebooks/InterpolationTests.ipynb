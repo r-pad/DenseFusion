{
 "cells": [
  {
   "cell_type": "code",
   "execution_count": 1,
   "metadata": {},
   "outputs": [],
   "source": [
    "%matplotlib inline\n",
    "\n",
    "import numpy as np\n",
    "import torch\n",
    "import scipy.io as sio\n",
    "from functools import partial\n",
    "\n",
    "import matplotlib.pyplot as plt\n",
    "import pylab\n",
    "pylab.rcParams['figure.figsize'] = 20, 12"
   ]
  },
  {
   "cell_type": "code",
   "execution_count": 2,
   "metadata": {},
   "outputs": [],
   "source": [
    "from scipy.integrate import tplquad \n",
    "from scipy.integrate import tplquad \n",
    "\n",
    "sph_lims = [[0, np.pi/2], [0, np.pi], [0, 2*np.pi]];\n",
    "\n",
    "def sph2Quat(psi, theta, phi):\n",
    "    return np.array([np.cos(psi),\n",
    "                     np.sin(psi)*np.cos(theta), \n",
    "                     np.sin(psi)*np.sin(theta)*np.cos(phi), \n",
    "                     np.sin(psi)*np.sin(theta)*np.sin(phi)])\n",
    "\n",
    "def sph_dV(psi, theta, phi):\n",
    "    return np.sin(psi)**2*np.sin(theta)\n",
    "\n",
    "def integrate3Sphere(func):\n",
    "    def sph_func_int(psi, theta, phi, ): \n",
    "        return np.asscalar(func(sph2Quat(psi, theta, phi))*sph_dV(psi, theta, phi))\n",
    "\n",
    "    return tplquad(sph_func_int, \n",
    "                   sph_lims[0][0], sph_lims[0][1], \n",
    "                   sph_lims[1][0], sph_lims[1][1], \n",
    "                   sph_lims[2][0], sph_lims[2][1])    "
   ]
  },
  {
   "cell_type": "code",
   "execution_count": 3,
   "metadata": {},
   "outputs": [
    {
     "name": "stdout",
     "output_type": "stream",
     "text": [
      "0.0 +/- 2.3058791671639882e-09\n"
     ]
    }
   ],
   "source": [
    "from scipy.integrate import tplquad \n",
    "\n",
    "const_func = lambda q: 1.0\n",
    "res = integrate3Sphere(const_func)\n",
    "print('{} +/- {}'.format(res[0] - np.pi**2, res[1]))"
   ]
  },
  {
   "cell_type": "code",
   "execution_count": 4,
   "metadata": {},
   "outputs": [],
   "source": [
    "from object_pose_utils.utils.interpolation import GaussianInterpolation, BinghamInterpolation\n",
    "from object_pose_utils.utils import to_np\n",
    "\n",
    "q_center = np.array([0.5377, 1.8339, -2.2588, 0.8622])\n",
    "q_center /= np.linalg.norm(q_center)\n",
    "\n",
    "w = [1]\n",
    "\n",
    "sigma_gauss = np.pi/9\n",
    "#sigma_bingham = sigma_gauss*2.8474391664672476\n",
    "sigma_bingham = sigma_gauss*100\n",
    "\n",
    "bingham_interp = BinghamInterpolation(vertices = [q_center], \n",
    "                                      values = torch.Tensor(w), \n",
    "                                      sigma=sigma_bingham)\n",
    "gaussian_interp = GaussianInterpolation(vertices = [q_center], \n",
    "                                        values = w, \n",
    "                                        sigma=sigma_gauss)\n",
    "\n",
    "if False:\n",
    "    gauss_interp_func = lambda q: to_np(gaussian_interp(torch.Tensor(q).unsqueeze(0).cuda()))[0]\n",
    "    bingham_interp_func = lambda q: to_np(bingham_interp(torch.Tensor(q).unsqueeze(0).cuda()))[0]\n",
    "    #print('Gaussian: ', integrate3Sphere(gauss_interp_func))\n",
    "    print('Bingham: ', integrate3Sphere(bingham_interp_func))\n",
    "\n",
    "if False:\n",
    "    N = 100\n",
    "    q = np.random.randn(4,N)\n",
    "    q = (q / np.linalg.norm(q, axis=0)).T\n",
    "    \n",
    "    p_gauss = to_np(gaussian_interp(torch.Tensor(q).cuda()))\n",
    "    p_bingham = to_np(bingham_interp(torch.Tensor(q).cuda()))\n",
    "    \n",
    "    plt.plot(p_gauss, label = 'Gaussian')\n",
    "    plt.plot(p_bingham, label = 'Bingham')\n",
    "    plt.legend()"
   ]
  },
  {
   "cell_type": "code",
   "execution_count": 24,
   "metadata": {},
   "outputs": [],
   "source": [
    "def logSumExp(x, weights, eta):\n",
    "    max_x = torch.max(x, dim=1)[0]\n",
    "    l_x = max_x + torch.log((weights*torch.exp(x - max_x.unsqueeze(1))).sum(1)) - np.log(eta)\n",
    "    return l_x"
   ]
  },
  {
   "cell_type": "code",
   "execution_count": 27,
   "metadata": {},
   "outputs": [
    {
     "name": "stdout",
     "output_type": "stream",
     "text": [
      "-30.254585\n",
      "tensor([-30.2546], device='cuda:0')\n",
      "----------\n",
      "-1420.3512\n",
      "tensor(-1420.3513, device='cuda:0')\n"
     ]
    }
   ],
   "source": [
    "import quat_math\n",
    "#print(to_np(gaussian_interp(torch.Tensor([1,0,0,0]).unsqueeze(0).cuda())))\n",
    "#print(to_np(gaussian_interp(torch.Tensor(q_center).unsqueeze(0).cuda())))\n",
    "#print(gaussian_interp.eta)\n",
    "#print(np.mean(p_gauss))\n",
    "bingham_interp_twin = BinghamInterpolation(vertices = [q_center, \n",
    "                                                       np.array([1,0,0,0]), \n",
    "                                                       np.array([0,1,0,0])], \n",
    "                                           values = torch.Tensor([1, 1, 1]),\n",
    "                                           sigma=sigma_bingham)\n",
    "\n",
    "v = to_np(bingham_interp(torch.Tensor([1,0,0,0]).unsqueeze(0).cuda()))\n",
    "print(np.log(v)[0])\n",
    "v_exp = bingham_interp(torch.Tensor([1,0,0,0]).unsqueeze(0).cuda(), True)\n",
    "print(logSumExp(v_exp, bingham_interp.values, bingham_interp.eta))\n",
    "print('-'*10)\n",
    "\n",
    "N = 100\n",
    "q = np.random.randn(4,N)\n",
    "q = (q / np.linalg.norm(q, axis=0)).T\n",
    "\n",
    "q_test = quat_math.random_quaternion()\n",
    "v = to_np(bingham_interp_twin(torch.Tensor(q).cuda()))\n",
    "#print(v)\n",
    "print(np.sum(np.log(v)))\n",
    "v_exp = bingham_interp_twin(torch.Tensor(q).cuda(), True)\n",
    "print(logSumExp(v_exp, bingham_interp_twin.values.repeat(q.shape[0],1), bingham_interp_twin.eta).sum())\n",
    "\n",
    "likelihoods = []\n",
    "for j in range(10):\n",
    "    q_test = np.random.randn(4,1)\n",
    "    q_test = (q_test / np.linalg.norm(q_test, axis=0)).T\n",
    "    likelihoods.append((bingham_interp_twin(torch.Tensor(q_test).cuda(), True), bingham_interp_twin.values))\n",
    "    "
   ]
  },
  {
   "cell_type": "code",
   "execution_count": 56,
   "metadata": {
    "scrolled": true
   },
   "outputs": [
    {
     "name": "stdout",
     "output_type": "stream",
     "text": [
      "tensor([[-34.7398, -34.6260, -30.5892],\n",
      "        [-34.0658, -32.6413, -22.6942],\n",
      "        [-23.2643, -28.2555,  -9.6411],\n",
      "        [-34.8407, -34.4944, -18.9099],\n",
      "        [-34.7151, -29.0957, -30.6557],\n",
      "        [-11.9311, -32.9457, -16.7423],\n",
      "        [-32.5241, -33.8145, -34.7993],\n",
      "        [-34.1637, -26.9785, -30.2884],\n",
      "        [-21.0640, -32.0214,  -3.7636],\n",
      "        [-27.9597, -33.8896, -32.8215]], device='cuda:0')\n",
      "tensor([[0.3333, 0.3333, 0.3333],\n",
      "        [0.3333, 0.3333, 0.3333],\n",
      "        [0.3333, 0.3333, 0.3333],\n",
      "        [0.3333, 0.3333, 0.3333],\n",
      "        [0.3333, 0.3333, 0.3333],\n",
      "        [0.3333, 0.3333, 0.3333],\n",
      "        [0.3333, 0.3333, 0.3333],\n",
      "        [0.3333, 0.3333, 0.3333],\n",
      "        [0.3333, 0.3333, 0.3333],\n",
      "        [0.3333, 0.3333, 0.3333]], device='cuda:0')\n"
     ]
    },
    {
     "data": {
      "text/plain": [
       "tensor([-28.0656, -20.2034,  -7.1503, -16.4191, -26.4112,  -9.4322, -29.7127,\n",
       "        -24.4511,  -1.2728, -25.4585], device='cuda:0')"
      ]
     },
     "execution_count": 56,
     "metadata": {},
     "output_type": "execute_result"
    }
   ],
   "source": [
    "l_exp, w = zip(*likelihoods)\n",
    "l_exp = torch.cat(l_exp)\n",
    "w = torch.stack(w)\n",
    "print(l_exp)\n",
    "print(w)\n",
    "logSumExp(l_exp, w, bingham_interp_twin.eta)"
   ]
  },
  {
   "cell_type": "code",
   "execution_count": 23,
   "metadata": {},
   "outputs": [
    {
     "name": "stdout",
     "output_type": "stream",
     "text": [
      "torch.Size([100, 3])\n",
      "torch.Size([100, 3])\n",
      "torch.Size([100])\n",
      "torch.Size([100, 3])\n"
     ]
    },
    {
     "data": {
      "text/plain": [
       "tensor([ -5.3842,  -9.6909, -10.6976,  -5.8070, -26.6386, -19.0015, -10.6848,\n",
       "        -31.6912,  -6.3704, -11.1440, -21.1845, -14.6112,  -0.1661, -14.6903,\n",
       "        -21.8387,  -2.6652, -13.0633, -10.4276, -20.7448,  -9.9265, -24.2304,\n",
       "        -29.9733, -26.5406, -32.6465, -26.2746,  -5.5040, -13.9149,  -5.3910,\n",
       "        -30.0625, -11.1359, -15.0516, -13.1476,  -5.8806,  -8.3395, -17.0903,\n",
       "        -11.4056, -22.5381, -28.6831, -26.5702, -20.7181, -28.5862, -24.6759,\n",
       "        -10.5092, -18.0649,  -8.7617, -11.1722, -17.5499,  -5.7197, -19.7160,\n",
       "         -9.0251, -10.9634, -26.9137, -16.6863, -32.2655, -23.8396, -13.7072,\n",
       "        -29.3784, -19.1985, -15.5046,  -8.5452,  -8.4332, -14.0292, -31.5896,\n",
       "        -18.2666, -12.7678, -25.5955,  -2.4624,  -7.3991, -17.6156, -20.8727,\n",
       "        -19.6057,  -3.7688, -17.3893, -21.9828, -33.2371,  -6.3811, -23.7905,\n",
       "        -14.1455, -15.3075, -12.2345,  -3.9880, -26.1087, -27.2890, -23.7684,\n",
       "         -9.9968, -13.4618, -19.7251, -18.5471, -20.1597, -16.6955, -20.9334,\n",
       "        -28.3428, -29.2089, -15.7959, -32.4936, -32.1248, -18.9004, -15.1127,\n",
       "        -17.4456,  -9.6160], device='cuda:0')"
      ]
     },
     "execution_count": 23,
     "metadata": {},
     "output_type": "execute_result"
    }
   ],
   "source": [
    "x = v_exp\n",
    "weights = bingham_interp_twin.values.repeat(q.shape[0],1)\n",
    "max_x = torch.max(x, dim=1)[0]\n",
    "print(weights.shape)\n",
    "print(x.shape)\n",
    "print(max_x.shape)\n",
    "print(torch.exp(x - max_x.unsqueeze(1)).shape)\n",
    "max_x + (weights * torch.exp(x - max_x.unsqueeze(1))).sum(1)"
   ]
  },
  {
   "cell_type": "code",
   "execution_count": null,
   "metadata": {},
   "outputs": [],
   "source": [
    "from quat_math import quat2AxisAngle \n",
    "\n",
    "N = 100000\n",
    "q = np.random.randn(4,N)\n",
    "q = (q / np.linalg.norm(q, axis=0)).T\n",
    "\n",
    "p_bingham = to_np(bingham_interp(torch.Tensor(q).cuda())).flatten()\n",
    "num_samples = 100\n",
    "sample_idxs = np.random.choice(np.arange(N), num_samples, p=p_bingham/np.sum(p_bingham))\n",
    "p_samples = p_bingham[sample_idxs]\n",
    "q_samples = q[sample_idxs]\n",
    "aa_samples = []\n",
    "for j in sample_idxs:\n",
    "    xi, theta = quat2AxisAngle(q[j])\n",
    "    aa_samples.append(xi*theta)\n",
    "\n",
    "aa_samples = np.array(aa_samples)\n",
    "\n",
    "from mpl_toolkits.mplot3d import Axes3D  # noqa: F401 unused import\n",
    "fig = plt.figure()\n",
    "ax = fig.add_subplot(111, projection='3d')\n",
    "ax.scatter(aa_samples[:,0], aa_samples[:,1], aa_samples[:,2], c=p_samples)\n",
    "ax.axis('equal')\n",
    "ax.set_xlim3d(-np.pi, np.pi)\n",
    "ax.set_ylim3d(-np.pi, np.pi)\n",
    "ax.set_zlim3d(-np.pi, np.pi)\n",
    "plt.show()"
   ]
  },
  {
   "cell_type": "code",
   "execution_count": null,
   "metadata": {},
   "outputs": [],
   "source": [
    "S = q_samples.T.dot(q_samples)/num_samples\n",
    "e_vals, e_vecs = np.linalg.eig(S)\n",
    "V = e_vecs[:, :3]\n",
    "dY = e_vals[:-1]\n"
   ]
  },
  {
   "cell_type": "code",
   "execution_count": null,
   "metadata": {
    "scrolled": true
   },
   "outputs": [],
   "source": [
    "print(Z_hat)\n",
    "print(Z)\n",
    "print(M_hat)\n",
    "print(M)"
   ]
  },
  {
   "cell_type": "code",
   "execution_count": null,
   "metadata": {},
   "outputs": [],
   "source": [
    "from object_pose_utils.utils.grid_interpolation import gramSchmidt\n",
    "M = gramSchmidt(q_center)\n",
    "Z = np.diag([0,-sigma_bingham, -sigma_bingham, -sigma_bingham])\n",
    "eta = bingham_interp.eta\n",
    "bingham_true = lambda v: 1/eta * np.exp(v.dot(M).dot(Z).dot(M.T).dot(v.T))\n",
    "print(bingham_true(np.array([1,0,0,0])))\n",
    "print(bingham_true(q_center))\n",
    "print('-'*10)\n",
    "bingham_est = lambda v: np.exp(v.dot(M_hat).dot(Z_hat).dot(M_hat.T).dot(v.T))\n",
    "print(bingham_est(np.array([1,0,0,0])))\n",
    "print(bingham_est(q_center))\n",
    "print('='*10)\n",
    "print(bingham_est(np.array([1,0,0,0])) / bingham_true(np.array([1,0,0,0])))\n",
    "print(bingham_est(np.array([0,1,0,0])) / bingham_true(np.array([0,1,0,0])))\n",
    "print(bingham_est(np.array([0,0,1,0])) / bingham_true(np.array([0,0,1,0])))\n",
    "print(bingham_est(np.array([0,0,0,1])) / bingham_true(np.array([0,0,0,1])))\n",
    "print(bingham_est(q_center) / bingham_true(q_center))\n"
   ]
  },
  {
   "cell_type": "code",
   "execution_count": null,
   "metadata": {},
   "outputs": [],
   "source": [
    "from object_pose_utils.utils.subrandom import subrandom\n",
    "N = 20\n",
    "srand = subrandom(N, dim=2)\n",
    "rand = np.random.rand(N,2)\n",
    "\n",
    "plt.subplot(121)\n",
    "plt.scatter(srand[:,0], srand[:,1], s=5e2/N)\n",
    "plt.title('Subrandom {}'.format(N))\n",
    "plt.subplot(122)\n",
    "plt.scatter(rand[:,0], rand[:,1], s=5e2/N)\n",
    "plt.title('Random {}'.format(N))\n",
    "plt.show()\n",
    "\n",
    "\n",
    "srand = subrandom(N)\n",
    "rand = np.random.rand(N)\n",
    "plt.title('1-Dimensional {}'.format(N))\n",
    "plt.scatter(srand[:], 0*srand[:], marker = '+', label='subrandom')\n",
    "plt.scatter(rand[:], 0*rand[:]+1, marker = 'x', label='random')\n",
    "plt.legend()\n",
    "plt.show()"
   ]
  }
 ],
 "metadata": {
  "kernelspec": {
   "display_name": "Python3 (bpy)",
   "language": "python",
   "name": "bpy"
  },
  "language_info": {
   "codemirror_mode": {
    "name": "ipython",
    "version": 3
   },
   "file_extension": ".py",
   "mimetype": "text/x-python",
   "name": "python",
   "nbconvert_exporter": "python",
   "pygments_lexer": "ipython3",
   "version": "3.6.6"
  }
 },
 "nbformat": 4,
 "nbformat_minor": 2
}
